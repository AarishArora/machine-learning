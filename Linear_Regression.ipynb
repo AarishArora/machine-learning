{
 "cells": [
  {
   "cell_type": "code",
   "execution_count": 1,
   "id": "43c47258-a89a-487c-8afd-67799b56f200",
   "metadata": {},
   "outputs": [],
   "source": [
    "import numpy as np\n",
    "import pandas as pd\n",
    "import matplotlib.pyplot as plt"
   ]
  },
  {
   "cell_type": "code",
   "execution_count": 2,
   "id": "307444b0-0fe6-4b8f-9bd9-1111e2c2e958",
   "metadata": {},
   "outputs": [],
   "source": [
    "df=pd.read_csv(\"data.csv\")"
   ]
  },
  {
   "cell_type": "code",
   "execution_count": 3,
   "id": "ce27f229-7f8a-4807-95cd-4a176bb84f69",
   "metadata": {},
   "outputs": [
    {
     "data": {
      "text/html": [
       "<div>\n",
       "<style scoped>\n",
       "    .dataframe tbody tr th:only-of-type {\n",
       "        vertical-align: middle;\n",
       "    }\n",
       "\n",
       "    .dataframe tbody tr th {\n",
       "        vertical-align: top;\n",
       "    }\n",
       "\n",
       "    .dataframe thead th {\n",
       "        text-align: right;\n",
       "    }\n",
       "</style>\n",
       "<table border=\"1\" class=\"dataframe\">\n",
       "  <thead>\n",
       "    <tr style=\"text-align: right;\">\n",
       "      <th></th>\n",
       "      <th>YearsExperience</th>\n",
       "      <th>Salary</th>\n",
       "    </tr>\n",
       "  </thead>\n",
       "  <tbody>\n",
       "    <tr>\n",
       "      <th>0</th>\n",
       "      <td>1.1</td>\n",
       "      <td>39343.0</td>\n",
       "    </tr>\n",
       "    <tr>\n",
       "      <th>1</th>\n",
       "      <td>1.3</td>\n",
       "      <td>46205.0</td>\n",
       "    </tr>\n",
       "    <tr>\n",
       "      <th>2</th>\n",
       "      <td>1.5</td>\n",
       "      <td>37731.0</td>\n",
       "    </tr>\n",
       "    <tr>\n",
       "      <th>3</th>\n",
       "      <td>2.0</td>\n",
       "      <td>43525.0</td>\n",
       "    </tr>\n",
       "    <tr>\n",
       "      <th>4</th>\n",
       "      <td>2.2</td>\n",
       "      <td>39891.0</td>\n",
       "    </tr>\n",
       "    <tr>\n",
       "      <th>5</th>\n",
       "      <td>2.9</td>\n",
       "      <td>56642.0</td>\n",
       "    </tr>\n",
       "    <tr>\n",
       "      <th>6</th>\n",
       "      <td>3.0</td>\n",
       "      <td>60150.0</td>\n",
       "    </tr>\n",
       "    <tr>\n",
       "      <th>7</th>\n",
       "      <td>3.2</td>\n",
       "      <td>54445.0</td>\n",
       "    </tr>\n",
       "    <tr>\n",
       "      <th>8</th>\n",
       "      <td>3.2</td>\n",
       "      <td>64445.0</td>\n",
       "    </tr>\n",
       "    <tr>\n",
       "      <th>9</th>\n",
       "      <td>3.7</td>\n",
       "      <td>57189.0</td>\n",
       "    </tr>\n",
       "    <tr>\n",
       "      <th>10</th>\n",
       "      <td>3.9</td>\n",
       "      <td>63218.0</td>\n",
       "    </tr>\n",
       "    <tr>\n",
       "      <th>11</th>\n",
       "      <td>4.0</td>\n",
       "      <td>55794.0</td>\n",
       "    </tr>\n",
       "    <tr>\n",
       "      <th>12</th>\n",
       "      <td>4.0</td>\n",
       "      <td>56957.0</td>\n",
       "    </tr>\n",
       "    <tr>\n",
       "      <th>13</th>\n",
       "      <td>4.1</td>\n",
       "      <td>57081.0</td>\n",
       "    </tr>\n",
       "    <tr>\n",
       "      <th>14</th>\n",
       "      <td>4.5</td>\n",
       "      <td>61111.0</td>\n",
       "    </tr>\n",
       "    <tr>\n",
       "      <th>15</th>\n",
       "      <td>4.9</td>\n",
       "      <td>67938.0</td>\n",
       "    </tr>\n",
       "    <tr>\n",
       "      <th>16</th>\n",
       "      <td>5.1</td>\n",
       "      <td>66029.0</td>\n",
       "    </tr>\n",
       "    <tr>\n",
       "      <th>17</th>\n",
       "      <td>5.3</td>\n",
       "      <td>83088.0</td>\n",
       "    </tr>\n",
       "    <tr>\n",
       "      <th>18</th>\n",
       "      <td>5.9</td>\n",
       "      <td>81363.0</td>\n",
       "    </tr>\n",
       "    <tr>\n",
       "      <th>19</th>\n",
       "      <td>6.0</td>\n",
       "      <td>93940.0</td>\n",
       "    </tr>\n",
       "    <tr>\n",
       "      <th>20</th>\n",
       "      <td>6.8</td>\n",
       "      <td>91738.0</td>\n",
       "    </tr>\n",
       "    <tr>\n",
       "      <th>21</th>\n",
       "      <td>7.1</td>\n",
       "      <td>98273.0</td>\n",
       "    </tr>\n",
       "    <tr>\n",
       "      <th>22</th>\n",
       "      <td>7.9</td>\n",
       "      <td>101302.0</td>\n",
       "    </tr>\n",
       "    <tr>\n",
       "      <th>23</th>\n",
       "      <td>8.2</td>\n",
       "      <td>113812.0</td>\n",
       "    </tr>\n",
       "    <tr>\n",
       "      <th>24</th>\n",
       "      <td>8.7</td>\n",
       "      <td>109431.0</td>\n",
       "    </tr>\n",
       "    <tr>\n",
       "      <th>25</th>\n",
       "      <td>9.0</td>\n",
       "      <td>105582.0</td>\n",
       "    </tr>\n",
       "    <tr>\n",
       "      <th>26</th>\n",
       "      <td>9.5</td>\n",
       "      <td>116969.0</td>\n",
       "    </tr>\n",
       "    <tr>\n",
       "      <th>27</th>\n",
       "      <td>9.6</td>\n",
       "      <td>112635.0</td>\n",
       "    </tr>\n",
       "    <tr>\n",
       "      <th>28</th>\n",
       "      <td>10.3</td>\n",
       "      <td>122391.0</td>\n",
       "    </tr>\n",
       "    <tr>\n",
       "      <th>29</th>\n",
       "      <td>10.5</td>\n",
       "      <td>121872.0</td>\n",
       "    </tr>\n",
       "  </tbody>\n",
       "</table>\n",
       "</div>"
      ],
      "text/plain": [
       "    YearsExperience    Salary\n",
       "0               1.1   39343.0\n",
       "1               1.3   46205.0\n",
       "2               1.5   37731.0\n",
       "3               2.0   43525.0\n",
       "4               2.2   39891.0\n",
       "5               2.9   56642.0\n",
       "6               3.0   60150.0\n",
       "7               3.2   54445.0\n",
       "8               3.2   64445.0\n",
       "9               3.7   57189.0\n",
       "10              3.9   63218.0\n",
       "11              4.0   55794.0\n",
       "12              4.0   56957.0\n",
       "13              4.1   57081.0\n",
       "14              4.5   61111.0\n",
       "15              4.9   67938.0\n",
       "16              5.1   66029.0\n",
       "17              5.3   83088.0\n",
       "18              5.9   81363.0\n",
       "19              6.0   93940.0\n",
       "20              6.8   91738.0\n",
       "21              7.1   98273.0\n",
       "22              7.9  101302.0\n",
       "23              8.2  113812.0\n",
       "24              8.7  109431.0\n",
       "25              9.0  105582.0\n",
       "26              9.5  116969.0\n",
       "27              9.6  112635.0\n",
       "28             10.3  122391.0\n",
       "29             10.5  121872.0"
      ]
     },
     "execution_count": 3,
     "metadata": {},
     "output_type": "execute_result"
    }
   ],
   "source": [
    "df"
   ]
  },
  {
   "cell_type": "code",
   "execution_count": 13,
   "id": "57d24ce5-8f50-4975-9219-d73d508a60c1",
   "metadata": {},
   "outputs": [],
   "source": [
    "x=np.array(df[\"YearsExperience\"])"
   ]
  },
  {
   "cell_type": "code",
   "execution_count": 14,
   "id": "398a419f-a1ca-48ac-9678-376bad162679",
   "metadata": {},
   "outputs": [
    {
     "data": {
      "text/plain": [
       "array([ 1.1,  1.3,  1.5,  2. ,  2.2,  2.9,  3. ,  3.2,  3.2,  3.7,  3.9,\n",
       "        4. ,  4. ,  4.1,  4.5,  4.9,  5.1,  5.3,  5.9,  6. ,  6.8,  7.1,\n",
       "        7.9,  8.2,  8.7,  9. ,  9.5,  9.6, 10.3, 10.5])"
      ]
     },
     "execution_count": 14,
     "metadata": {},
     "output_type": "execute_result"
    }
   ],
   "source": [
    "x"
   ]
  },
  {
   "cell_type": "code",
   "execution_count": 15,
   "id": "668c7759-777c-4ab1-b0c2-fc59a5d55a21",
   "metadata": {},
   "outputs": [],
   "source": [
    "y=np.array(df[\"Salary\"])"
   ]
  },
  {
   "cell_type": "code",
   "execution_count": 16,
   "id": "10b43b0e-0f1e-48eb-b113-1a8259d1df63",
   "metadata": {},
   "outputs": [],
   "source": [
    "# Normalization\n",
    "x_max=x.max()\n",
    "x_min=x.min()"
   ]
  },
  {
   "cell_type": "code",
   "execution_count": 17,
   "id": "564de88b-8f1c-4b28-bcd7-c4ee51268228",
   "metadata": {},
   "outputs": [
    {
     "data": {
      "text/plain": [
       "(10.5, 1.1)"
      ]
     },
     "execution_count": 17,
     "metadata": {},
     "output_type": "execute_result"
    }
   ],
   "source": [
    "x_max,x_min"
   ]
  },
  {
   "cell_type": "code",
   "execution_count": 18,
   "id": "34dbc483-962e-4852-bbf0-c3f2384c33d2",
   "metadata": {},
   "outputs": [],
   "source": [
    "x_normal=(x-x_min)/(x_max-x_min)"
   ]
  },
  {
   "cell_type": "code",
   "execution_count": 19,
   "id": "f2152374-a6b6-4c2a-b578-cfa9ba7c6d8c",
   "metadata": {},
   "outputs": [
    {
     "data": {
      "text/plain": [
       "array([0.        , 0.0212766 , 0.04255319, 0.09574468, 0.11702128,\n",
       "       0.19148936, 0.20212766, 0.22340426, 0.22340426, 0.27659574,\n",
       "       0.29787234, 0.30851064, 0.30851064, 0.31914894, 0.36170213,\n",
       "       0.40425532, 0.42553191, 0.44680851, 0.5106383 , 0.5212766 ,\n",
       "       0.60638298, 0.63829787, 0.72340426, 0.75531915, 0.80851064,\n",
       "       0.84042553, 0.89361702, 0.90425532, 0.9787234 , 1.        ])"
      ]
     },
     "execution_count": 19,
     "metadata": {},
     "output_type": "execute_result"
    }
   ],
   "source": [
    "x_normal"
   ]
  },
  {
   "cell_type": "code",
   "execution_count": 20,
   "id": "11c7bf21-00bd-4630-bb71-e4503b9778e6",
   "metadata": {},
   "outputs": [],
   "source": [
    "y_max = y.max()\n",
    "y_min = y.min()"
   ]
  },
  {
   "cell_type": "code",
   "execution_count": 21,
   "id": "f2ed31e2-7a7f-4c61-b4da-2be0d2f39e1f",
   "metadata": {},
   "outputs": [
    {
     "data": {
      "text/plain": [
       "(122391.0, 37731.0)"
      ]
     },
     "execution_count": 21,
     "metadata": {},
     "output_type": "execute_result"
    }
   ],
   "source": [
    "y_max, y_min"
   ]
  },
  {
   "cell_type": "code",
   "execution_count": 22,
   "id": "ac313e88-1db7-4d76-8fe6-6613c86769e6",
   "metadata": {},
   "outputs": [],
   "source": [
    "y_normal = (y-y_min)/(y_max-y_min)"
   ]
  },
  {
   "cell_type": "code",
   "execution_count": 23,
   "id": "ce0cf727-1e0f-4cc0-9150-06356b039d82",
   "metadata": {},
   "outputs": [
    {
     "data": {
      "text/plain": [
       "array([0.01904087, 0.1000945 , 0.        , 0.06843846, 0.02551382,\n",
       "       0.22337586, 0.26481219, 0.19742499, 0.31554453, 0.229837  ,\n",
       "       0.30105126, 0.21335932, 0.22709662, 0.2285613 , 0.27616348,\n",
       "       0.35680369, 0.33425467, 0.53575478, 0.51537916, 0.66393811,\n",
       "       0.63792818, 0.7151193 , 0.75089771, 0.89866525, 0.84691708,\n",
       "       0.80145287, 0.93595559, 0.88476258, 1.        , 0.9938696 ])"
      ]
     },
     "execution_count": 23,
     "metadata": {},
     "output_type": "execute_result"
    }
   ],
   "source": [
    "y_normal"
   ]
  },
  {
   "cell_type": "code",
   "execution_count": 24,
   "id": "b7ea5e9b-9d32-4601-86c4-cabe5b2607d0",
   "metadata": {},
   "outputs": [
    {
     "data": {
      "text/plain": [
       "<matplotlib.collections.PathCollection at 0x282f31a3290>"
      ]
     },
     "execution_count": 24,
     "metadata": {},
     "output_type": "execute_result"
    },
    {
     "data": {
      "image/png": "[encoded data removed]",
      "text/plain": [
       "<Figure size 640x480 with 1 Axes>"
      ]
     },
     "metadata": {},
     "output_type": "display_data"
    }
   ],
   "source": [
    "plt.scatter(x_normal,y_normal)"
   ]
  },
  {
   "cell_type": "code",
   "execution_count": 31,
   "id": "769e6966-f669-40bd-9b0a-1a7ac476591a",
   "metadata": {},
   "outputs": [
    {
     "data": {
      "text/plain": [
       "<matplotlib.collections.PathCollection at 0x282f7497d50>"
      ]
     },
     "execution_count": 31,
     "metadata": {},
     "output_type": "execute_result"
    },
    {
     "data": {
      "image/png": "[encoded data removed]",
      "text/plain": [
       "<Figure size 640x480 with 1 Axes>"
      ]
     },
     "metadata": {},
     "output_type": "display_data"
    }
   ],
   "source": [
    "plt.scatter(x,y)"
   ]
  },
  {
   "cell_type": "code",
   "execution_count": 117,
   "id": "ae9bb1f8-d630-4b4a-a8d6-54aa9cd00ede",
   "metadata": {},
   "outputs": [],
   "source": [
    "# Lin Reg\n",
    "# y=(w*x+b)\n",
    "w=1\n",
    "b=1\n",
    "lr=0.01\n",
    "epochs=75"
   ]
  },
  {
   "cell_type": "code",
   "execution_count": 104,
   "id": "0b939be8-64da-4c3f-944a-b7bfe2935087",
   "metadata": {},
   "outputs": [],
   "source": [
    "# a=np.array([1,2,3,4,5])\n",
    "# sum=a.sum()"
   ]
  },
  {
   "cell_type": "code",
   "execution_count": 116,
   "id": "d04625b3-5893-45be-8e25-07804954873a",
   "metadata": {},
   "outputs": [],
   "source": [
    "# sum"
   ]
  },
  {
   "cell_type": "code",
   "execution_count": 106,
   "id": "3024b8a4-585f-4a31-b7e2-d1ebda3bc7c4",
   "metadata": {},
   "outputs": [],
   "source": [
    "# L(w,b)=(y_hat - w*x-b)**2   Loss Function\n",
    "# diff wrt w = -2*(y_hat-w*x-b)*x\n",
    "#  diff wrt b = -2*(y_hat-w*x-b)"
   ]
  },
  {
   "cell_type": "code",
   "execution_count": 118,
   "id": "9c29eab2-fda1-4dc4-b53b-79dd02e8cd49",
   "metadata": {},
   "outputs": [],
   "source": [
    "#x_plot_new=np.arange(-10,10,0.1)"
   ]
  },
  {
   "cell_type": "code",
   "execution_count": 119,
   "id": "80a824df-92fb-4b07-b100-d1f6db85f7aa",
   "metadata": {},
   "outputs": [
    {
     "name": "stdout",
     "output_type": "stream",
     "text": [
      "----------------------------------------\n",
      "Epoch : 0\n",
      "w = 286415.422\n",
      "b = 45599.012\n",
      "Loss : 84646591390655.36\n",
      "----------------------------------------\n",
      "Epoch : 1\n",
      "w = -5761952.277676001\n",
      "b = -849250.9605360001\n",
      "Loss : 3.7623449084423576e+16\n",
      "----------------------------------------\n",
      "Epoch : 2\n",
      "w = 121747687.72509114\n",
      "b = 18075005.277016696\n",
      "Loss : 1.6723490409738035e+19\n",
      "----------------------------------------\n",
      "Epoch : 3\n",
      "w = -2566556521.6172576\n",
      "b = -380856024.5567838\n",
      "Loss : 7.433533105836208e+21\n",
      "----------------------------------------\n",
      "Epoch : 4\n",
      "w = 54111185356.03871\n",
      "b = 8029885382.893103\n",
      "Loss : 3.304179515770176e+24\n",
      "----------------------------------------\n",
      "Epoch : 5\n",
      "w = -1140830518349.401\n",
      "b = -169294459160.09418\n",
      "Loss : 1.4686962601763096e+27\n",
      "----------------------------------------\n",
      "Epoch : 6\n",
      "w = 24052228005422.75\n",
      "b = 3569249954435.652\n",
      "Loss : 6.528303605662559e+29\n",
      "----------------------------------------\n",
      "Epoch : 7\n",
      "w = -507095187760064.44\n",
      "b = -75250802853911.67\n",
      "Loss : 2.9018081630159924e+32\n",
      "----------------------------------------\n",
      "Epoch : 8\n",
      "w = 1.069113137951964e+16\n",
      "b = 1586519137483122.5\n",
      "Loss : 1.2898435985180651e+35\n",
      "----------------------------------------\n",
      "Epoch : 9\n",
      "w = -2.2540204074190957e+17\n",
      "b = -3.3448719182869764e+16\n",
      "Loss : 5.733309768171818e+37\n",
      "----------------------------------------\n",
      "Epoch : 10\n",
      "w = 4.752170576446032e+18\n",
      "b = 7.052022182121053e+17\n",
      "Loss : 2.5484361775009435e+40\n",
      "----------------------------------------\n",
      "Epoch : 11\n",
      "w = -1.0019042025221263e+20\n",
      "b = -1.4867838910425057e+19\n",
      "Loss : 1.1327709845453775e+43\n",
      "----------------------------------------\n",
      "Epoch : 12\n",
      "w = 2.1123232318445377e+21\n",
      "b = 3.1345992419988387e+20\n",
      "Loss : 5.03512748232216e+45\n",
      "----------------------------------------\n",
      "Epoch : 13\n",
      "w = -4.4534292046665155e+22\n",
      "b = -6.608702493440433e+21\n",
      "Loss : 2.238096588730227e+48\n",
      "----------------------------------------\n",
      "Epoch : 14\n",
      "w = 9.38920302630857e+23\n",
      "b = 1.3933184204739235e+23\n",
      "Loss : 9.948261207034489e+50\n",
      "----------------------------------------\n",
      "Epoch : 15\n",
      "w = -1.9795337349669047e+25\n",
      "b = -2.937545187968216e+24\n",
      "Loss : 4.4219673780717495e+53\n",
      "----------------------------------------\n",
      "Epoch : 16\n",
      "w = 4.173467968359218e+26\n",
      "b = 6.193251739555764e+25\n",
      "Loss : 1.9655490628758436e+56\n",
      "----------------------------------------\n",
      "Epoch : 17\n",
      "w = -8.798958348245386e+27\n",
      "b = -1.3057285813546956e+27\n",
      "Loss : 8.736796968992521e+58\n",
      "----------------------------------------\n",
      "Epoch : 18\n",
      "w = 1.855091942746962e+29\n",
      "b = 2.7528787781664415e+28\n",
      "Loss : 3.883475753371133e+61\n",
      "----------------------------------------\n",
      "Epoch : 19\n",
      "w = -3.911106269449434e+30\n",
      "b = -5.803917962350657e+29\n",
      "Loss : 1.7261914155206216e+64\n",
      "----------------------------------------\n",
      "Epoch : 20\n",
      "w = 8.245818925975023e+31\n",
      "b = 1.223645006851077e+31\n",
      "Loss : 7.672860582251523e+66\n",
      "----------------------------------------\n",
      "Epoch : 21\n",
      "w = -1.7384730834618648e+33\n",
      "b = -2.5798212733267944e+32\n",
      "Loss : 3.410559743567781e+69\n",
      "----------------------------------------\n",
      "Epoch : 22\n",
      "w = 3.6652377272085615e+34\n",
      "b = 5.439059339143354e+33\n",
      "Loss : 1.5159819000688607e+72\n",
      "----------------------------------------\n",
      "Epoch : 23\n",
      "w = -7.727452167508735e+35\n",
      "b = -1.1467215500775158e+35\n",
      "Loss : 6.738486624287216e+74\n",
      "----------------------------------------\n",
      "Epoch : 24\n",
      "w = 1.6291853747400215e+37\n",
      "b = 2.4176428889986845e+36\n",
      "Loss : 2.9952337810652747e+77\n",
      "----------------------------------------\n",
      "Epoch : 25\n",
      "w = -3.4348255126404624e+38\n",
      "b = -5.09713725911124e+37\n",
      "Loss : 1.3313709596008225e+80\n",
      "----------------------------------------\n",
      "Epoch : 26\n",
      "w = 7.24167211737246e+39\n",
      "b = 1.0746338243933344e+39\n",
      "Loss : 5.917897438503103e+82\n",
      "----------------------------------------\n",
      "Epoch : 27\n",
      "w = -1.5267679497121233e+41\n",
      "b = -2.2656597180426065e+40\n",
      "Loss : 2.6304847525848004e+85\n",
      "----------------------------------------\n",
      "Epoch : 28\n",
      "w = 3.2188979761678847e+42\n",
      "b = 4.776709834960545e+41\n",
      "Loss : 1.1692412897462034e+88\n",
      "----------------------------------------\n",
      "Epoch : 29\n",
      "w = -6.786430238420552e+43\n",
      "b = -1.0070778354624793e+43\n",
      "Loss : 5.19723671579538e+90\n",
      "----------------------------------------\n",
      "Epoch : 30\n",
      "w = 1.4307889135330198e+45\n",
      "b = 2.1232308465899725e+44\n",
      "Loss : 2.3101535771008085e+93\n",
      "----------------------------------------\n",
      "Epoch : 31\n",
      "w = -3.016544550180842e+46\n",
      "b = -4.4764258224796684e+45\n",
      "Loss : 1.0268552004899243e+96\n",
      "----------------------------------------\n",
      "Epoch : 32\n",
      "w = 6.359806773143368e+47\n",
      "b = 9.43768699307734e+46\n",
      "Loss : 4.5643355196172325e+98\n",
      "----------------------------------------\n",
      "Epoch : 33\n",
      "w = -1.3408435220787789e+49\n",
      "b = -1.9897556513057964e+48\n",
      "Loss : 2.028831204798864e+101\n",
      "----------------------------------------\n",
      "Epoch : 34\n",
      "w = 2.8269119091679924e+50\n",
      "b = 4.1950189223349145e+49\n",
      "Loss : 9.018083880719602e+103\n",
      "----------------------------------------\n",
      "Epoch : 35\n",
      "w = -5.96000264803927e+51\n",
      "b = -8.844394409534164e+50\n",
      "Loss : 4.008506803687359e+106\n",
      "----------------------------------------\n",
      "Epoch : 36\n",
      "w = 1.2565524751384882e+53\n",
      "b = 1.864671266556783e+52\n",
      "Loss : 1.781767280914411e+109\n",
      "----------------------------------------\n",
      "Epoch : 37\n",
      "w = -2.6492003712382546e+54\n",
      "b = -3.93130244007923e+53\n",
      "Loss : 7.91989336382512e+111\n",
      "----------------------------------------\n",
      "Epoch : 38\n",
      "w = 5.585331886911768e+55\n",
      "b = 8.288398685904387e+54\n",
      "Loss : 3.5203649526087677e+114\n",
      "----------------------------------------\n",
      "Epoch : 39\n",
      "w = -1.1775603169031786e+57\n",
      "b = -1.7474502108038541e+56\n",
      "Loss : 1.5647899321678013e+117\n",
      "----------------------------------------\n",
      "Epoch : 40\n",
      "w = 2.482660525857878e+58\n",
      "b = 3.68416428185518e+57\n",
      "Loss : 6.95543662312398e+119\n",
      "----------------------------------------\n",
      "Epoch : 41\n",
      "w = -5.234214501098629e+59\n",
      "b = -7.767355185160709e+58\n",
      "Loss : 3.0916672981959365e+122\n",
      "----------------------------------------\n",
      "Epoch : 42\n",
      "w = 1.1035339370067197e+61\n",
      "b = 1.6375981622096e+60\n",
      "Loss : 1.374235321324958e+125\n",
      "----------------------------------------\n",
      "Epoch : 43\n",
      "w = -2.326590073582091e+62\n",
      "b = -3.4525622646890386e+61\n",
      "Loss : 6.108428030011864e+127\n",
      "----------------------------------------\n",
      "Epoch : 44\n",
      "w = 4.905169826650977e+63\n",
      "b = 7.279066663992146e+62\n",
      "Loss : 2.715174935385862e+130\n",
      "----------------------------------------\n",
      "Epoch : 45\n",
      "w = -1.034161165797573e+65\n",
      "b = -1.5346518740803627e+64\n",
      "Loss : 1.206885780355719e+133\n",
      "----------------------------------------\n",
      "Epoch : 46\n",
      "w = 2.1803308644544798e+66\n",
      "b = 3.235519721599448e+65\n",
      "Loss : 5.3645651624205043e+135\n",
      "----------------------------------------\n",
      "Epoch : 47\n",
      "w = -4.5968102803652736e+67\n",
      "b = -6.821474007016904e+66\n",
      "Loss : 2.384530487497624e+138\n",
      "----------------------------------------\n",
      "Epoch : 48\n",
      "w = 9.691494579176527e+68\n",
      "b = 1.4381772213523818e+68\n",
      "Loss : 1.0599154775184288e+141\n",
      "----------------------------------------\n",
      "Epoch : 49\n",
      "w = -2.0432661225849964e+70\n",
      "b = -3.0321213829873814e+69\n",
      "Loss : 4.711287296905397e+143\n",
      "----------------------------------------\n",
      "Epoch : 50\n",
      "w = 4.3078355083373164e+71\n",
      "b = 6.392647543481474e+70\n",
      "Loss : 2.09415075680846e+146\n",
      "----------------------------------------\n",
      "Epoch : 51\n",
      "w = -9.0822465863694e+72\n",
      "b = -1.3477673698840108e+72\n",
      "Loss : 9.308427009157414e+148\n",
      "----------------------------------------\n",
      "Epoch : 52\n",
      "w = 1.9148178452026355e+74\n",
      "b = 2.841509516939204e+73\n",
      "Loss : 4.1375633107170955e+151\n",
      "----------------------------------------\n",
      "Epoch : 53\n",
      "w = -4.037026902362654e+75\n",
      "b = -5.990778909828433e+74\n",
      "Loss : 1.839132447764861e+154\n",
      "----------------------------------------\n",
      "Epoch : 54\n",
      "w = 8.511298477414762e+76\n",
      "b = 1.2630410608339004e+76\n",
      "Loss : 8.174879527910722e+156\n",
      "----------------------------------------\n",
      "Epoch : 55\n",
      "w = -1.7944443652145672e+78\n",
      "b = -2.6628803121664697e+77\n",
      "Loss : 3.633705412411823e+159\n",
      "----------------------------------------\n",
      "Epoch : 56\n",
      "w = 3.7832424610590896e+79\n",
      "b = 5.614173423817381e+78\n",
      "Loss : 1.6151693708892504e+162\n",
      "----------------------------------------\n",
      "Epoch : 57\n",
      "w = -7.976242560994083e+80\n",
      "b = -1.1836410028903682e+80\n",
      "Loss : 7.179371469541451e+164\n",
      "----------------------------------------\n",
      "Epoch : 58\n",
      "w = 1.681638066993026e+82\n",
      "b = 2.4954804883292986e+81\n",
      "Loss : 3.191205555692773e+167\n",
      "----------------------------------------\n",
      "Epoch : 59\n",
      "w = -3.5454119740405644e+83\n",
      "b = -5.261242938040595e+82\n",
      "Loss : 1.4184797293034982e+170\n",
      "----------------------------------------\n",
      "Epoch : 60\n",
      "w = 7.474822503362337e+84\n",
      "b = 1.1092323655719698e+84\n",
      "Loss : 6.305092878945321e+172\n",
      "----------------------------------------\n",
      "Epoch : 61\n",
      "w = -1.5759232457574122e+86\n",
      "b = -2.338604119449034e+85\n",
      "Loss : 2.8025917741980786e+175\n",
      "----------------------------------------\n",
      "Epoch : 62\n",
      "w = 3.3225325088340615e+87\n",
      "b = 4.930499142696668e+86\n",
      "Loss : 1.2457422600436919e+178\n",
      "----------------------------------------\n",
      "Epoch : 63\n",
      "w = -7.00492381337617e+88\n",
      "b = -1.0395013672455121e+88\n",
      "Loss : 5.537280858189959e+180\n",
      "----------------------------------------\n",
      "Epoch : 64\n",
      "w = 1.4768541015246157e+90\n",
      "b = 2.1915896570145027e+89\n",
      "Loss : 2.4613020113327083e+183\n",
      "----------------------------------------\n",
      "Epoch : 65\n",
      "w = -3.1136641815078554e+91\n",
      "b = -4.620547289379896e+90\n",
      "Loss : 1.0940401518608707e+186\n",
      "----------------------------------------\n",
      "Epoch : 66\n",
      "w = 6.564564925673121e+92\n",
      "b = 9.741539519071846e+91\n",
      "Loss : 4.862970283096892e+188\n",
      "----------------------------------------\n",
      "Epoch : 67\n",
      "w = -1.3840128591680314e+94\n",
      "b = -2.0538171402283032e+93\n",
      "Loss : 2.1615733146593737e+191\n",
      "----------------------------------------\n",
      "Epoch : 68\n",
      "w = 2.917926193175791e+95\n",
      "b = 4.330080309418552e+94\n",
      "Loss : 9.608117925145907e+193\n",
      "----------------------------------------\n",
      "Epoch : 69\n",
      "w = -6.151888844399569e+96\n",
      "b = -9.129145491467678e+95\n",
      "Loss : 4.270774876680853e+196\n",
      "----------------------------------------\n",
      "Epoch : 70\n",
      "w = 1.2970080066575501e+98\n",
      "b = 1.9247055816287124e+97\n",
      "Loss : 1.898344523806557e+199\n",
      "----------------------------------------\n",
      "Epoch : 71\n",
      "w = -2.7344931156635343e+99\n",
      "b = -4.0578733019591213e+98\n",
      "Loss : 8.43807513887753e+201\n",
      "----------------------------------------\n",
      "Epoch : 72\n",
      "w = 5.765155312249001e+100\n",
      "b = 8.555249120656985e+99\n",
      "Loss : 3.750694942695157e+204\n",
      "----------------------------------------\n",
      "Epoch : 73\n",
      "w = -1.2154726440511733e+102\n",
      "b = -1.8037105170623533e+101\n",
      "Loss : 1.6671708087006177e+207\n",
      "----------------------------------------\n",
      "Epoch : 74\n",
      "w = 2.562591410673416e+103\n",
      "b = 3.8027783685526464e+102\n",
      "Loss : 7.410516045291122e+209\n"
     ]
    }
   ],
   "source": [
    "for i in range(epochs):\n",
    "    w_slope=-2*np.dot((y-w*x-b),x)\n",
    "    b_slope=-2*np.sum((y-w*x-b))\n",
    "    w_new=w-lr*w_slope\n",
    "    b_new = b- lr*b_slope\n",
    "    w=w_new\n",
    "    b=b_new\n",
    "\n",
    "    \n",
    "    print(\"--\"*20)\n",
    "    loss=np.sum((y-w*x-b)*(y-w*x-b))\n",
    "    \n",
    "    print(\"Epoch : \"+ str(i))\n",
    "    print(\"w = \"+str(w))\n",
    "    print(\"b = \"+str(b))\n",
    "    print(\"Loss : \"+str(loss))\n"
   ]
  },
  {
   "cell_type": "code",
   "execution_count": 83,
   "id": "414561a4-325b-4e3f-a1bd-f28434ccf779",
   "metadata": {},
   "outputs": [
    {
     "data": {
      "text/plain": [
       "(5.892034373939256e+179, 8.743532336314513e+178)"
      ]
     },
     "execution_count": 83,
     "metadata": {},
     "output_type": "execute_result"
    }
   ],
   "source": [
    "w,b"
   ]
  },
  {
   "cell_type": "code",
   "execution_count": 115,
   "id": "05c5e2a5-0827-4ee4-ac04-938c2004e01a",
   "metadata": {},
   "outputs": [],
   "source": [
    "x_plot=np.arange(-10,10,0.1)\n",
    "y_plot=(w*x_plot+b)"
   ]
  },
  {
   "cell_type": "code",
   "execution_count": 113,
   "id": "dbeb2593-c4c4-480b-96a6-07ff2b059de8",
   "metadata": {},
   "outputs": [
    {
     "data": {
      "text/plain": [
       "<matplotlib.collections.PathCollection at 0x282fb5c8650>"
      ]
     },
     "execution_count": 113,
     "metadata": {},
     "output_type": "execute_result"
    },
    {
     "data": {
      "image/png": "[encoded data removed]",
      "text/plain": [
       "<Figure size 640x480 with 1 Axes>"
      ]
     },
     "metadata": {},
     "output_type": "display_data"
    }
   ],
   "source": [
    "plt.plot(x_plot,y_plot)\n",
    "plt.scatter(x_normal,y_normal)"
   ]
  },
  {
   "cell_type": "code",
   "execution_count": null,
   "id": "c6f258b3-f2d7-4670-8542-9d3220e3eed8",
   "metadata": {},
   "outputs": [],
   "source": []
  }
 ],
 "metadata": {
  "kernelspec": {
   "display_name": "Python 3 (ipykernel)",
   "language": "python",
   "name": "python3"
  },
  "language_info": {
   "codemirror_mode": {
    "name": "ipython",
    "version": 3
   },
   "file_extension": ".py",
   "mimetype": "text/x-python",
   "name": "python",
   "nbconvert_exporter": "python",
   "pygments_lexer": "ipython3",
   "version": "3.11.7"
  }
 },
 "nbformat": 4,
 "nbformat_minor": 5
}
